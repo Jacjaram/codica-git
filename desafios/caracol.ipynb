{
 "cells": [
  {
   "cell_type": "code",
   "execution_count": 106,
   "metadata": {},
   "outputs": [
    {
     "data": {
      "text/plain": [
       "[1, 2, 3, 4, 8, 12, 16, 15, 14, 13, 11, 10, 9, 5, 6, 7, 11, 10, 9]"
      ]
     },
     "execution_count": 106,
     "metadata": {},
     "output_type": "execute_result"
    }
   ],
   "source": [
    "# Puedes representar una matriz como una lista bidimensional. Por ejemplo, la lista [[1, 2, 3, 4], [5, 6, 7, 8]] es una representación de la \n",
    "# matriz:\n",
    "\n",
    "# 1 2 3 4\n",
    "# 5 6 7 8\n",
    "# src/solution.py\n",
    "# Implementa la función snail_path(), que toma una matriz como entrada y devuelve una lista de elementos de la matriz en orden, comenzando \n",
    "# por el elemento superior izquierdo y siguiendo en el sentido de las agujas del reloj hacia el interior. El movimiento a través de la matriz \n",
    "# se parece al de un caracol:\n",
    "\n",
    "def flatten(lista):\n",
    "    result = []\n",
    "    for i in lista:\n",
    "        if isinstance(i, list):\n",
    "            result=[*result,*i]\n",
    "        else:\n",
    "            result.append(i)\n",
    "    return result\n",
    "\n",
    "def snail_path(lista):\n",
    "    new_snail=[]\n",
    "    modif_list=lista\n",
    "    if lista:\n",
    "        while len(modif_list)>0:\n",
    "            if len(modif_list)>0:\n",
    "                new_snail.append(modif_list[0])\n",
    "                modif_list.remove(modif_list[0])\n",
    "\n",
    "            if len(modif_list)>1:\n",
    "                for i in range(len(modif_list)):     \n",
    "                    new_snail.append(modif_list[i][-1])            \n",
    "                    modif_list[i].pop() \n",
    "\n",
    "            if len(modif_list)>0:\n",
    "                new_snail.append(modif_list[-1][::-1])\n",
    "                modif_list.pop()\n",
    "\n",
    "            \n",
    "\n",
    "            if len(modif_list)>1:\n",
    "                new_snail.append(modif_list[-1][::-1])                   \n",
    "\n",
    "    return flatten(new_snail) \n",
    "           \n",
    "snail_path([\n",
    "            [1, 2, 3, 4],\n",
    "            [5, 6, 7, 8],\n",
    "            [9, 10, 11, 12],\n",
    "            [13, 14, 15, 16],\n",
    "        ])\n",
    "\n",
    "\n"
   ]
  },
  {
   "cell_type": "code",
   "execution_count": null,
   "metadata": {},
   "outputs": [
    {
     "data": {
      "text/plain": [
       "[1, 2, 3, 4, 8, 12, 16, 15, 14, 13, 9, 5, 6, 7, 11, 10]"
      ]
     },
     "execution_count": 108,
     "metadata": {},
     "output_type": "execute_result"
    }
   ],
   "source": [
    "def snail_path(matrix):\n",
    "    result = []\n",
    "    \n",
    "    while matrix:\n",
    "        result.extend(matrix.pop(0))\n",
    "        if matrix and matrix[0]:\n",
    "            for row in matrix:\n",
    "                result.append(row.pop())      \n",
    "        if matrix:\n",
    "            result.extend(matrix.pop()[::-1])\n",
    "        if matrix and matrix[0]:\n",
    "            for row in matrix[::-1]:\n",
    "                result.append(row.pop(0))    \n",
    "    return result\n",
    "\n",
    "snail_path([\n",
    "            [1, 2, 3, 4],\n",
    "            [5, 6, 7, 8],\n",
    "            [9, 10, 11, 12],\n",
    "            [13, 14, 15, 16],\n",
    "        ])"
   ]
  }
 ],
 "metadata": {
  "kernelspec": {
   "display_name": "Python 3",
   "language": "python",
   "name": "python3"
  },
  "language_info": {
   "codemirror_mode": {
    "name": "ipython",
    "version": 3
   },
   "file_extension": ".py",
   "mimetype": "text/x-python",
   "name": "python",
   "nbconvert_exporter": "python",
   "pygments_lexer": "ipython3",
   "version": "3.13.1"
  }
 },
 "nbformat": 4,
 "nbformat_minor": 2
}
