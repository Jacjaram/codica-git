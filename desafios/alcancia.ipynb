{
 "cells": [
  {
   "cell_type": "code",
   "execution_count": 82,
   "metadata": {},
   "outputs": [
    {
     "name": "stdout",
     "output_type": "stream",
     "text": [
      "[1, 2, 3, 10, 20] 1 5 5\n",
      "[1, 2, 3, 10, 20] 2 4 4\n",
      "[1, 2, 3, 10, 20] 3 4 3\n",
      "[1, 2, 3, 10, 20] 10 1 2\n",
      "[1, 2, 3, 10, 20] 20 3 1\n",
      "[1, 2, 3, 10, 20] 1 5 5\n",
      "[1, 2, 3, 10, 20] 2 4 4\n",
      "[1, 2, 3, 10, 20] 3 4 3\n",
      "[1, 2, 3, 10, 20] 10 1 2\n",
      "[1, 2, 3, 10, 20] 20 3 1\n",
      "[1, 2, 3, 10, 20] 1 5 5\n",
      "[1, 2, 3, 10, 20] 2 4 4\n",
      "[1, 2, 3, 10, 20] 3 4 3\n",
      "[1, 2, 3, 10, 20] 10 1 2\n",
      "[1, 2, 3, 10, 20] 20 3 1\n",
      "[1, 2, 3, 10, 20] 1 5 5\n",
      "[1, 2, 3, 10, 20] 2 4 4\n",
      "[1, 2, 3, 10, 20] 3 4 3\n",
      "[1, 2, 3, 10, 20] 10 1 2\n",
      "[1, 2, 3, 10, 20] 20 3 1\n",
      "[1, 2, 3, 10, 20] 1 5 5\n",
      "[1, 2, 3, 10, 20] 2 4 4\n",
      "[1, 2, 3, 10, 20] 3 4 3\n",
      "[1, 2, 3, 10, 20] 10 1 2\n",
      "[1, 2, 3, 10, 20] 20 3 1\n",
      "[1, 2, 3, 10, 20] 1 5 5\n",
      "[1, 2, 3, 10, 20] 2 4 4\n",
      "[1, 2, 3, 10, 20] 3 4 3\n",
      "[1, 2, 3, 10, 20] 10 1 2\n",
      "[1, 2, 3, 10, 20] 20 3 1\n"
     ]
    },
    {
     "data": {
      "text/plain": [
       "[5, 4, 4, 1, 3]"
      ]
     },
     "execution_count": 82,
     "metadata": {},
     "output_type": "execute_result"
    }
   ],
   "source": [
    "# Implementa la función visualize(), la cual cuenta cuántas monedas de cada denominación hay en la alcancía y muestra el resultado en forma de \n",
    "# gráfico. Cada columna del gráfico representa un montón de monedas de una denominación específica.\n",
    "\n",
    "# Por simplicidad, asumamos que siempre hay monedas en la alcancía, su número es ilimitado y la denominación puede ser cualquier número.\n",
    "\n",
    "# La función recibe una lista o tupla con números y retorna un gráfico en forma de cadena de texto. El argumento opcional bar_char define el \n",
    "# símbolo que se usa para dibujar el gráfico. El valor por defecto es el signo de rublo (₽).\n",
    "\n",
    "def visualize(monedas,rublo='₽₽'):\n",
    "    denominaciones=list((set(monedas)))\n",
    "    coins_amount=[]\n",
    "    \n",
    "    for i in denominaciones:\n",
    "        coins_amount.append(monedas.count(i))\n",
    "    result=[]\n",
    "    \n",
    "    for col in range(max(coins_amount)+1):\n",
    "        \n",
    "        aux=max(coins_amount)\n",
    "        for row in denominaciones:\n",
    "            print(denominaciones,row,coins_amount[denominaciones.index(row)], aux)\n",
    "            if coins_amount[denominaciones.index(row)]==aux:\n",
    "                result.append(coins_amount[denominaciones.index(row)])\n",
    "            elif coins_amount[denominaciones.index(row)]<aux:\n",
    "                result.append(rublo)\n",
    "            else:\n",
    "                result.append('   ')\n",
    "            \n",
    "\n",
    "# tres casos 1 que si la cantidad de monedas es menor que en donde va entonces ' ' si es igual entonces numero y si es mayor entonces $$\n",
    "            \n",
    "            aux-=1\n",
    "        result.append('\\n')    \n",
    "\n",
    "    final=f'{result}{(rublo+' ')*len(denominaciones)}{'---'*len(denominaciones)}'\n",
    "    \n",
    "\n",
    "    return coins_amount\n",
    "\n",
    "\n",
    "MONEY = (10,1,1,1,1,1,20,20,20,2,2,2,2,3,3,3,3)\n",
    "\n",
    "visualize(MONEY)\n",
    "\n",
    "\n"
   ]
  },
  {
   "cell_type": "code",
   "execution_count": 113,
   "metadata": {},
   "outputs": [
    {
     "name": "stdout",
     "output_type": "stream",
     "text": [
      "               9  \n",
      "               ₽₽ \n",
      "               ₽₽ \n",
      "   6           ₽₽ \n",
      "   ₽₽          ₽₽ \n",
      "4  ₽₽          ₽₽ \n",
      "₽₽ ₽₽          ₽₽ \n",
      "₽₽ ₽₽ 2  2  2  ₽₽ \n",
      "₽₽ ₽₽ ₽₽ ₽₽ ₽₽ ₽₽ \n",
      "₽₽ ₽₽ ₽₽ ₽₽ ₽₽ ₽₽ \n",
      "-----------------\n",
      "1  2  3  5  10 20\n"
     ]
    },
    {
     "data": {
      "text/plain": [
       "'               9  \\n               ₽₽ \\n               ₽₽ \\n   6           ₽₽ \\n   ₽₽          ₽₽ \\n4  ₽₽          ₽₽ \\n₽₽ ₽₽          ₽₽ \\n₽₽ ₽₽ 2  2  2  ₽₽ \\n₽₽ ₽₽ ₽₽ ₽₽ ₽₽ ₽₽ \\n₽₽ ₽₽ ₽₽ ₽₽ ₽₽ ₽₽ \\n-----------------\\n1  2  3  5  10 20'"
      ]
     },
     "execution_count": 113,
     "metadata": {},
     "output_type": "execute_result"
    }
   ],
   "source": [
    "def visualize(monedas,rublo='₽'):\n",
    "    denominaciones=list((set(monedas)))\n",
    "    coins_amount=[]\n",
    "    \n",
    "    for i in denominaciones:\n",
    "        coins_amount.append(monedas.count(i))\n",
    "    result=[]\n",
    "    aux=max(coins_amount)\n",
    "    for row in range(max(coins_amount)):\n",
    "        \n",
    "        for col in range(len(denominaciones)):\n",
    "            if aux == coins_amount[col]:\n",
    "                result.append(str(coins_amount[col])+ '  ')\n",
    "            elif aux > coins_amount[col]:\n",
    "                result.append('   ')\n",
    "            else:\n",
    "                result.append(rublo*2+' ')\n",
    "        \n",
    "        result.append('\\n')\n",
    "        # print(result)        \n",
    "        aux-=1#\n",
    "    result.append((rublo*2+' ')*len(denominaciones)+'\\n') \n",
    "    result.append('-'*((len(denominaciones)*3)-1)+ '\\n')\n",
    "    print(''.join(result)+''.join(f\"{num}  \" if num < 10 else f\"{num} \" for num in denominaciones).rstrip())\n",
    "    return (''.join(result)+''.join(f\"{num}  \" if num < 10 else f\"{num} \" for num in denominaciones).rstrip())\n",
    "    \n",
    "\n",
    "\n",
    "MONEY = (\n",
    "    1, 20, 2, 5, 20,\n",
    "    3, 5, 2, 10, 2,\n",
    "    20, 2, 20, 1, 2,\n",
    "    1, 1, 2, 10, 20, 3,20,20,20,20,\n",
    ")\n",
    "\n",
    "visualize(MONEY)\n"
   ]
  },
  {
   "cell_type": "code",
   "execution_count": 28,
   "metadata": {},
   "outputs": [
    {
     "name": "stdout",
     "output_type": "stream",
     "text": [
      "₽₽            \n",
      "₽₽ ₽₽ ₽₽      \n",
      "₽₽ ₽₽ ₽₽    ₽₽\n",
      "₽₽ ₽₽ ₽₽    ₽₽\n",
      "₽₽ ₽₽ ₽₽ ₽₽ ₽₽\n",
      "--------------\n",
      "1 2 3 10 20\n"
     ]
    }
   ],
   "source": [
    "from collections import Counter\n",
    "\n",
    "def visualize(coins, bar_char='₽'):\n",
    "    counts = Counter(coins)\n",
    "    denominations = sorted(counts.keys())\n",
    "    max_height = max(counts.values())\n",
    "    \n",
    "    rows = []\n",
    "    for i in range(max_height, 0, -1):\n",
    "        row = []\n",
    "        for denom in denominations:\n",
    "            if counts[denom] >= i:\n",
    "                row.append(bar_char * 2)\n",
    "            else:\n",
    "                row.append('  ')\n",
    "        rows.append(' '.join(row))\n",
    "    \n",
    "    separator = '-' * (3 * len(denominations) - 1)\n",
    "    labels = ' '.join(str(d) for d in denominations)\n",
    "    \n",
    "    return '\\n'.join(rows + [separator, labels])\n",
    "\n",
    "print(visualize((10,1,1,1,1,1,20,20,20,2,2,2,2,3,3,3,3)))"
   ]
  }
 ],
 "metadata": {
  "kernelspec": {
   "display_name": "Python 3",
   "language": "python",
   "name": "python3"
  },
  "language_info": {
   "codemirror_mode": {
    "name": "ipython",
    "version": 3
   },
   "file_extension": ".py",
   "mimetype": "text/x-python",
   "name": "python",
   "nbconvert_exporter": "python",
   "pygments_lexer": "ipython3",
   "version": "3.13.1"
  }
 },
 "nbformat": 4,
 "nbformat_minor": 2
}
