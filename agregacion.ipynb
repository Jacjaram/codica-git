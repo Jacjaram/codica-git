{
 "cells": [
  {
   "cell_type": "code",
   "execution_count": 7,
   "metadata": {},
   "outputs": [
    {
     "data": {
      "text/plain": [
       "27"
      ]
     },
     "execution_count": 7,
     "metadata": {},
     "output_type": "execute_result"
    }
   ],
   "source": [
    "# Implementa la función calculate_sum(). Debe calcular la suma de todos los elementos de la \n",
    "# lista, que se dividen exactamente por tres:\n",
    "# coll1 = [8, 9, 21, 19, 18, 22, 7]\n",
    "# calculate_sum(coll1) # 48\n",
    "\n",
    "# coll2 = [2, 0, 17, 3, 9, 15, 4]\n",
    "# calculate_sum(coll2) # 27\n",
    "# En caso de una lista vacía, la función debe devolver 0.\n",
    "\n",
    "# coll = []\n",
    "# calculate_sum(coll) # 0\n",
    "\n",
    "def calculate_sum(lista):\n",
    "    result=0    \n",
    "    for i in lista:\n",
    "        if i%3 == 0:\n",
    "            result+=i\n",
    "    return result        \n",
    "        \n",
    "\n",
    "coll2 = [2, 0, 17, 3, 9, 15, 4]\n",
    "calculate_sum(coll2)\n"
   ]
  }
 ],
 "metadata": {
  "kernelspec": {
   "display_name": "Python 3",
   "language": "python",
   "name": "python3"
  },
  "language_info": {
   "codemirror_mode": {
    "name": "ipython",
    "version": 3
   },
   "file_extension": ".py",
   "mimetype": "text/x-python",
   "name": "python",
   "nbconvert_exporter": "python",
   "pygments_lexer": "ipython3",
   "version": "3.13.1"
  }
 },
 "nbformat": 4,
 "nbformat_minor": 2
}
