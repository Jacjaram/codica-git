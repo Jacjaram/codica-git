{
 "cells": [
  {
   "cell_type": "code",
   "execution_count": 64,
   "metadata": {},
   "outputs": [
    {
     "data": {
      "text/plain": [
       "[2, 3]"
      ]
     },
     "execution_count": 64,
     "metadata": {},
     "output_type": "execute_result"
    }
   ],
   "source": [
    "# Implementa una función que tome dos listas ordenadas como entrada y encuentre su intersección. La intersección de dos listas A y B es una lista \n",
    "# solo con aquellos elementos de A y B que pertenecen a ambas listas simultáneamente, sin duplicados:\n",
    "\n",
    "# get_intersection_of_sorted_lists([10, 11, 24], [10, 13, 14, 18, 24, 30]); # [10, 24]\n",
    "\n",
    "# get_intersection_of_sorted_lists([10, 11, 24], [-2, 3, 4]); # []\n",
    "\n",
    "# get_intersection_of_sorted_lists([], [2]); # []\n",
    "\n",
    "# get_intersection_of_sorted_lists([1, 2, 2, 3, 4], [2, 2, 3, 5]) # [2, 3]\n",
    "# Algoritmo\n",
    "# La búsqueda de la intersección de dos listas no ordenadas es una operación en la que se lleva a cabo un bucle anidado con la comprobación \n",
    "# completa de cada elemento de la primera lista para ver si está en la segunda.\n",
    "\n",
    "# La complejidad de este algoritmo es O(n * m) (producto de n y m), donde n y m son las dimensiones de las listas. Si las listas están ordenadas, \n",
    "# se puede implementar un algoritmo con una complejidad ya de O(n + m), lo cual es significativamente mejor.\n",
    "\n",
    "# La esencia del algoritmo es bastante simple. Se introducen dos punteros (índices) en cada una de las listas. El valor inicial de cada puntero \n",
    "# es 0. Luego se verifica los elementos que se encuentran en estos índices en ambas listas. Si coinciden, el valor se introduce en la lista \n",
    "# resultante y ambos índices se incrementan. Si el valor en la primera lista es mayor que en la segunda, se incrementa el puntero de la segunda \n",
    "# lista, de lo contrario, se incrementa el de la primera.\n",
    "\n",
    "def get_intersection_of_sorted_lists(lista1,lista2):\n",
    "    inters=[]\n",
    "    index1=0\n",
    "    index2=0\n",
    "    while index1<len(lista1) and index2<len(lista2):        \n",
    "        val1 = lista1[index1] if index1 < len(lista1) else None    \n",
    "        val2 = lista2[index2] if index2 < len(lista2) else None\n",
    "        if val1==val2 and val1 not in inters:\n",
    "            inters.append(val1)\n",
    "            index1+=1\n",
    "        elif val1<val2:\n",
    "            index1+=1\n",
    "        elif val1>val2:\n",
    "            index2+=1\n",
    "        else:\n",
    "            if index1<len(lista1): \n",
    "                index1+=1\n",
    "            else:\n",
    "               index2+=1   \n",
    "    return inters\n",
    "get_intersection_of_sorted_lists([1, 2, 2, 3, 4], [2, 2, 3, 5]) # [2, 3]"
   ]
  },
  {
   "cell_type": "code",
   "execution_count": null,
   "metadata": {},
   "outputs": [],
   "source": [
    "def get_intersection_of_sorted_lists(lista1,lista2):\n",
    "    intersection=[]\n",
    "    "
   ]
  }
 ],
 "metadata": {
  "kernelspec": {
   "display_name": "Python 3",
   "language": "python",
   "name": "python3"
  },
  "language_info": {
   "codemirror_mode": {
    "name": "ipython",
    "version": 3
   },
   "file_extension": ".py",
   "mimetype": "text/x-python",
   "name": "python",
   "nbconvert_exporter": "python",
   "pygments_lexer": "ipython3",
   "version": "3.13.1"
  }
 },
 "nbformat": 4,
 "nbformat_minor": 2
}
